{
 "cells": [
  {
   "cell_type": "markdown",
   "metadata": {},
   "source": [
    "## Examples of performing linear least squares fitting"
   ]
  },
  {
   "cell_type": "markdown",
   "metadata": {},
   "source": [
    "First we import numpy and matplotlib as usual"
   ]
  },
  {
   "cell_type": "code",
   "execution_count": null,
   "metadata": {},
   "outputs": [],
   "source": [
    "%matplotlib inline\n",
    "import numpy as np\n",
    "import matplotlib.pyplot as plt"
   ]
  },
  {
   "cell_type": "markdown",
   "metadata": {},
   "source": [
    "Now lets generate some random date about a trend line\n",
    "Need to have random number generator, want to make sure data isnt changing, RMS width is sigma, fill array, where each data point has an uncertainty of 2=full function in last line"
   ]
  },
  {
   "cell_type": "code",
   "execution_count": null,
   "metadata": {},
   "outputs": [],
   "source": [
    "#set a random number seed\n",
    "np.random.seed(119)\n",
    "\n",
    "#set number of data points\n",
    "npoints = 50\n",
    "\n",
    "#set x\n",
    "x = np.linspace(0,10.,npoints)\n",
    "\n",
    "#set slope, intercept, and scatter rms\n",
    "m = 2.0\n",
    "b = 1.0\n",
    "sigma = 2.0\n",
    "\n",
    "#generate y points\n",
    "y = m*x + b +np.random.normal(scale=sigma,size=npoints)\n",
    "y_err = np.full(npoints,sigma)\n",
    "\n"
   ]
  },
  {
   "cell_type": "markdown",
   "metadata": {},
   "source": [
    "# Lets plot the data first"
   ]
  },
  {
   "cell_type": "code",
   "execution_count": null,
   "metadata": {},
   "outputs": [],
   "source": [
    "f = plt.figure(figsize=(7,7))\n",
    "plt.errorbar(x,y,sigma,fmt='o')\n",
    "plt.xlabel('x')\n",
    "plt.ylabel('y')"
   ]
  },
  {
   "cell_type": "markdown",
   "metadata": {},
   "source": [
    "Poly fit, takes x and y values, and makes a fit with an order 1, and makes a slope and intercept fit value"
   ]
  },
  {
   "cell_type": "markdown",
   "metadata": {},
   "source": [
    "## Method #1, polyfit()"
   ]
  },
  {
   "cell_type": "code",
   "execution_count": null,
   "metadata": {
    "scrolled": true
   },
   "outputs": [],
   "source": [
    "m_fit, b_fit = np.poly1d(np.polyfit(x, y, 1, w=1./y_err))   #weigh with uncertainties \n",
    "print(m_fit, b_fit)\n",
    "\n",
    "y_fit = m_fit * x + b_fit"
   ]
  },
  {
   "cell_type": "markdown",
   "metadata": {},
   "source": [
    "## Plot Result"
   ]
  },
  {
   "cell_type": "code",
   "execution_count": null,
   "metadata": {},
   "outputs": [],
   "source": [
    "f = plt.figure(figsize=(7,7))\n",
    "plt.errorbar(x,y,yerr=y_err,fmt='o',label='data')\n",
    "plt.plot(x,y_fit,label='fit')\n",
    "plt.xlabel('x')\n",
    "plt.ylabel('y')\n",
    "plt.legend(loc=2,frameon=False)"
   ]
  },
  {
   "cell_type": "markdown",
   "metadata": {},
   "source": [
    "## Method #2, scipy + optimize"
   ]
  },
  {
   "cell_type": "code",
   "execution_count": null,
   "metadata": {},
   "outputs": [],
   "source": [
    "#import optimize from scipy"
   ]
  },
  {
   "cell_type": "code",
   "execution_count": null,
   "metadata": {},
   "outputs": [],
   "source": [
    "from scipy import optimize\n",
    "\n",
    "#define the fxn to fit\n",
    "def f_line(x, m, b):\n",
    "    return m*x + b\n",
    "\n",
    "#perform the fit\n",
    "params, params_cov = optimize.curve_fit(f_line,x,y,sigma=y_err)\n",
    "\n",
    "m_fit = params[0]\n",
    "b_fit = params[1]\n",
    "print(m_fit,b_fit)\n",
    "\n",
    "#cant use polyfit for uncertainties with curves\n",
    "#scipy is a new module, that provides us with a optimize module\n",
    "#it can minimize a function that can fit a curve"
   ]
  },
  {
   "cell_type": "markdown",
   "metadata": {},
   "source": [
    "## Plot Result"
   ]
  },
  {
   "cell_type": "code",
   "execution_count": null,
   "metadata": {},
   "outputs": [],
   "source": [
    "f = plt.figure(figsize=(7,7))\n",
    "plt.errorbar(x,y,yerr=y_err,fmt='o',label='data')\n",
    "plt.plot(x,y_fit,label='fit')\n",
    "plt.xlabel('x')\n",
    "plt.ylabel('y')\n",
    "plt.legend(loc=2,frameon=False)"
   ]
  },
  {
   "cell_type": "markdown",
   "metadata": {},
   "source": [
    "## We can perform much more complicated fits"
   ]
  },
  {
   "cell_type": "code",
   "execution_count": null,
   "metadata": {},
   "outputs": [],
   "source": [
    "#redefine x and y\n",
    "npoints = 50\n",
    "x = np.linspace(0.,2*np.pi,npoints)\n",
    "\n",
    "#make y a complicated function\n",
    "a = 3.4\n",
    "b = 2.1\n",
    "c = 0.27\n",
    "d = -1.3\n",
    "sig = 0.6\n",
    "\n",
    "y = a * np.sin(b*x + c) + d +np.random.normal(scale=sig,size=npoints)\n",
    "y_err = np.full(npoints,sig)\n",
    "\n",
    "f = plt.figure(figsize=(7,7))\n",
    "plt.errorbar(x,y,yerr=y_err,fmt='o')\n",
    "plt.xlabel('x')\n",
    "plt.ylabel('y')"
   ]
  },
  {
   "cell_type": "markdown",
   "metadata": {},
   "source": [
    "## Perform a fit using scipy.optimize.curve_fit()"
   ]
  },
  {
   "cell_type": "code",
   "execution_count": null,
   "metadata": {},
   "outputs": [],
   "source": [
    "from scipy import optimize\n",
    "\n",
    "#define the fxn to fit\n",
    "def f_line(x, a, b, c, d):\n",
    "    return a * np.sin(b*x + c) + d\n",
    "\n",
    "#perform the fit\n",
    "params, params_cov = optimize.curve_fit(f_line,x,y,sigma=y_err,p0=[1,2.,0.1,-0.1])\n",
    "\n",
    "a_fit = params[0]\n",
    "b_fit = params[1]\n",
    "c_fit = params[2]\n",
    "d_fit = params[3]\n",
    "\n",
    "print(a_fit,b_fit,c_fit,d_fit)\n",
    "\n",
    "y_fit = a_fit * np.sin(b_fit * x +c_fit) + d_fit"
   ]
  },
  {
   "cell_type": "markdown",
   "metadata": {},
   "source": [
    "## Plot the fit"
   ]
  },
  {
   "cell_type": "code",
   "execution_count": null,
   "metadata": {},
   "outputs": [],
   "source": [
    "f = plt.figure(figsize=(7,7))\n",
    "plt.errorbar(x,y,yerr=y_err,fmt='o',label='data')\n",
    "plt.plot(x,y_fit,label='fit')\n",
    "plt.xlabel('x')\n",
    "plt.ylabel('y')\n",
    "plt.legend(loc=2,frameon=False)"
   ]
  },
  {
   "cell_type": "code",
   "execution_count": null,
   "metadata": {},
   "outputs": [],
   "source": []
  }
 ],
 "metadata": {
  "kernelspec": {
   "display_name": "Python 3",
   "language": "python",
   "name": "python3"
  },
  "language_info": {
   "codemirror_mode": {
    "name": "ipython",
    "version": 3
   },
   "file_extension": ".py",
   "mimetype": "text/x-python",
   "name": "python",
   "nbconvert_exporter": "python",
   "pygments_lexer": "ipython3",
   "version": "3.6.5"
  }
 },
 "nbformat": 4,
 "nbformat_minor": 2
}
